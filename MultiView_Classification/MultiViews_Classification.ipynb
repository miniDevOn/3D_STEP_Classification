{
 "cells": [
  {
   "cell_type": "code",
   "execution_count": 1,
   "metadata": {
    "collapsed": true
   },
   "outputs": [
    {
     "name": "stdout",
     "output_type": "stream",
     "text": [
      "Importing...\n",
      "Done importing\n"
     ]
    }
   ],
   "source": [
    "print(\"Importing...\")\n",
    "import os\n",
    "import torch\n",
    "import torch.optim as optim\n",
    "import torch.nn as nn\n",
    "import os,shutil,json\n",
    "import argparse\n",
    "from tools.Trainer import ModelNetTrainer\n",
    "from tools.split_train_test_valid import split_train_test_valid\n",
    "from tools.ImgDataset import MultiviewImgDataset, SingleImgDataset\n",
    "from models.MVCNN import MVCNN, SVCNN\n",
    "from step_2_multiview import make_multiview_dataset\n",
    "\n",
    "print(\"Done importing\")"
   ]
  },
  {
   "cell_type": "code",
   "execution_count": 2,
   "outputs": [
    {
     "name": "stdout",
     "output_type": "stream",
     "text": [
      "WARNING: summary folder already exists!! It will be overwritten!!\n",
      "Num classes: 2\n",
      "Num models for class: 12\n",
      "WARNING: summary folder already exists!! It will be overwritten!!\n"
     ]
    }
   ],
   "source": [
    "def create_folder(log_dir):\n",
    "    # make summary folder\n",
    "    if not os.path.exists(log_dir):\n",
    "        os.mkdir(log_dir)\n",
    "    else:\n",
    "        print('WARNING: summary folder already exists!! It will be overwritten!!')\n",
    "        shutil.rmtree(log_dir)\n",
    "        os.mkdir(log_dir)\n",
    "\n",
    "name=\"MVCNN\"\n",
    "# Batch size for the second stage,  it will be *12 images in each batch for mvcnn\n",
    "bs=8\n",
    "# learning rate\n",
    "lr=5e-5\n",
    "# weight decay\n",
    "weight_decay=0.0\n",
    "cnn_name=\"vgg11\"\n",
    "\n",
    "run_folder=os.path.dirname(os.getcwd()) + \"/\"\n",
    "# number of views\n",
    "num_views=12\n",
    "# path dataset\n",
    "dataset = \"Test_dataset/\"\n",
    "# path STEP dataset\n",
    "STEP_dataset = dataset + \"STEP_models/\"\n",
    "abs_path_STEP_dataset = run_folder + \"/Datasets/\" + STEP_dataset\n",
    "# path where to save multi views dataset\n",
    "MultiViews_dataset = dataset + \"MVCNN_models/\"\n",
    "abs_path_MultiViews_dataset = run_folder + \"/Datasets/\" + MultiViews_dataset\n",
    "create_folder(abs_path_MultiViews_dataset)\n",
    "# num train epochs each stage\n",
    "num_epoch = 30\n",
    "# number of classes\n",
    "num_class = len(os.listdir(abs_path_STEP_dataset))\n",
    "# number of models per class\n",
    "num_models=len(os.listdir(abs_path_STEP_dataset + \"/\" + os.listdir(abs_path_STEP_dataset)[0]))\n",
    "\n",
    "print(\"Num classes:\", num_class)\n",
    "print(\"Num models for class:\", num_models)\n",
    "\n",
    "pretraining = False\n",
    "log_dir = name\n",
    "create_folder(name)"
   ],
   "metadata": {
    "collapsed": false,
    "pycharm": {
     "name": "#%%\n"
    }
   }
  },
  {
   "cell_type": "code",
   "execution_count": 3,
   "outputs": [
    {
     "name": "stdout",
     "output_type": "stream",
     "text": [
      "Making Multi View Dataset...\n",
      "--- Examinating: class: 0  - Model: 0_10.stp\n",
      "qt-pyqt5 backend - Qt version 5.12.9\n",
      "--- Examinating: class: 0  - Model: 0_11.stp\n",
      "INFO:OCC.Display.backend:The qt-pyqt5 backend is already loaded...``load_backend`` can only be called once per session\n",
      "qt-pyqt5 backend - Qt version 5.12.9\n",
      "--- Examinating: class: 0  - Model: 0_12.stp\n",
      "INFO:OCC.Display.backend:The qt-pyqt5 backend is already loaded...``load_backend`` can only be called once per session\n",
      "qt-pyqt5 backend - Qt version 5.12.9\n",
      "--- Examinating: class: 0  - Model: 0_13.stp\n",
      "INFO:OCC.Display.backend:The qt-pyqt5 backend is already loaded...``load_backend`` can only be called once per session\n",
      "qt-pyqt5 backend - Qt version 5.12.9\n",
      "--- Examinating: class: 0  - Model: 0_2.stp\n",
      "INFO:OCC.Display.backend:The qt-pyqt5 backend is already loaded...``load_backend`` can only be called once per session\n",
      "qt-pyqt5 backend - Qt version 5.12.9\n",
      "--- Examinating: class: 0  - Model: 0_3.stp\n",
      "INFO:OCC.Display.backend:The qt-pyqt5 backend is already loaded...``load_backend`` can only be called once per session\n",
      "qt-pyqt5 backend - Qt version 5.12.9\n",
      "--- Examinating: class: 0  - Model: 0_4.stp\n",
      "INFO:OCC.Display.backend:The qt-pyqt5 backend is already loaded...``load_backend`` can only be called once per session\n",
      "qt-pyqt5 backend - Qt version 5.12.9\n",
      "--- Examinating: class: 0  - Model: 0_5.stp\n",
      "INFO:OCC.Display.backend:The qt-pyqt5 backend is already loaded...``load_backend`` can only be called once per session\n",
      "qt-pyqt5 backend - Qt version 5.12.9\n",
      "--- Examinating: class: 0  - Model: 0_6.stp\n",
      "INFO:OCC.Display.backend:The qt-pyqt5 backend is already loaded...``load_backend`` can only be called once per session\n",
      "qt-pyqt5 backend - Qt version 5.12.9\n",
      "--- Examinating: class: 0  - Model: 0_7.stp\n",
      "INFO:OCC.Display.backend:The qt-pyqt5 backend is already loaded...``load_backend`` can only be called once per session\n",
      "qt-pyqt5 backend - Qt version 5.12.9\n",
      "--- Examinating: class: 0  - Model: 0_8.stp\n",
      "INFO:OCC.Display.backend:The qt-pyqt5 backend is already loaded...``load_backend`` can only be called once per session\n",
      "qt-pyqt5 backend - Qt version 5.12.9\n",
      "--- Examinating: class: 0  - Model: 0_9.stp\n",
      "INFO:OCC.Display.backend:The qt-pyqt5 backend is already loaded...``load_backend`` can only be called once per session\n",
      "qt-pyqt5 backend - Qt version 5.12.9\n",
      "--- Examinating: class: 1  - Model: 1_0.stp\n",
      "INFO:OCC.Display.backend:The qt-pyqt5 backend is already loaded...``load_backend`` can only be called once per session\n",
      "qt-pyqt5 backend - Qt version 5.12.9\n",
      "--- Examinating: class: 1  - Model: 1_1.stp\n",
      "INFO:OCC.Display.backend:The qt-pyqt5 backend is already loaded...``load_backend`` can only be called once per session\n",
      "qt-pyqt5 backend - Qt version 5.12.9\n",
      "--- Examinating: class: 1  - Model: 1_10.stp\n",
      "INFO:OCC.Display.backend:The qt-pyqt5 backend is already loaded...``load_backend`` can only be called once per session\n",
      "qt-pyqt5 backend - Qt version 5.12.9\n",
      "--- Examinating: class: 1  - Model: 1_11.stp\n",
      "INFO:OCC.Display.backend:The qt-pyqt5 backend is already loaded...``load_backend`` can only be called once per session\n",
      "qt-pyqt5 backend - Qt version 5.12.9\n",
      "--- Examinating: class: 1  - Model: 1_2.stp\n",
      "INFO:OCC.Display.backend:The qt-pyqt5 backend is already loaded...``load_backend`` can only be called once per session\n",
      "qt-pyqt5 backend - Qt version 5.12.9\n",
      "--- Examinating: class: 1  - Model: 1_3.stp\n",
      "INFO:OCC.Display.backend:The qt-pyqt5 backend is already loaded...``load_backend`` can only be called once per session\n",
      "qt-pyqt5 backend - Qt version 5.12.9\n",
      "--- Examinating: class: 1  - Model: 1_4.stp\n",
      "INFO:OCC.Display.backend:The qt-pyqt5 backend is already loaded...``load_backend`` can only be called once per session\n",
      "qt-pyqt5 backend - Qt version 5.12.9\n",
      "--- Examinating: class: 1  - Model: 1_5.stp\n",
      "INFO:OCC.Display.backend:The qt-pyqt5 backend is already loaded...``load_backend`` can only be called once per session\n",
      "qt-pyqt5 backend - Qt version 5.12.9\n",
      "--- Examinating: class: 1  - Model: 1_6.stp\n",
      "INFO:OCC.Display.backend:The qt-pyqt5 backend is already loaded...``load_backend`` can only be called once per session\n",
      "qt-pyqt5 backend - Qt version 5.12.9\n",
      "--- Examinating: class: 1  - Model: 1_7.stp\n",
      "INFO:OCC.Display.backend:The qt-pyqt5 backend is already loaded...``load_backend`` can only be called once per session\n",
      "qt-pyqt5 backend - Qt version 5.12.9\n",
      "--- Examinating: class: 1  - Model: 1_8.stp\n",
      "INFO:OCC.Display.backend:The qt-pyqt5 backend is already loaded...``load_backend`` can only be called once per session\n",
      "qt-pyqt5 backend - Qt version 5.12.9\n",
      "--- Examinating: class: 1  - Model: 1_9.stp\n",
      "INFO:OCC.Display.backend:The qt-pyqt5 backend is already loaded...``load_backend`` can only be called once per session\n",
      "qt-pyqt5 backend - Qt version 5.12.9\n",
      "Finished creating dataset\n",
      "Dividing dataset\n",
      "Finished \n"
     ]
    }
   ],
   "source": [
    "print(\"Making Multi View Dataset...\")\n",
    "MultiView_dataset = make_multiview_dataset(abs_path_STEP_dataset, abs_path_MultiViews_dataset)\n",
    "print(\"Finished creating dataset\")\n",
    "\n",
    "print(\"Dividing dataset\")\n",
    "# divide multi views in train, validation and test set\n",
    "split_train_test_valid(abs_path_MultiViews_dataset)\n",
    "\n",
    "train_path= abs_path_MultiViews_dataset + \"/*/train\"\n",
    "test_path= abs_path_MultiViews_dataset + \"/*/test\"\n",
    "val_path= abs_path_MultiViews_dataset + \"/*/valid\"\n",
    "\n",
    "print(\"Finished \")"
   ],
   "metadata": {
    "collapsed": false,
    "pycharm": {
     "name": "#%%\n"
    }
   }
  },
  {
   "cell_type": "code",
   "execution_count": 4,
   "outputs": [
    {
     "name": "stdout",
     "output_type": "stream",
     "text": [
      "WARNING: summary folder already exists!! It will be overwritten!!\n",
      "num_train_files: 204\n",
      "num_test_files: 24\n",
      "num_validation_files: 48\n",
      "epoch 1, step 1: train_loss 0.690; train_acc 0.375\n",
      "epoch 1, step 2: train_loss 0.685; train_acc 0.750\n",
      "epoch 1, step 3: train_loss 0.707; train_acc 0.500\n",
      "epoch 1, step 4: train_loss 0.755; train_acc 0.250\n",
      "epoch 1, step 5: train_loss 0.658; train_acc 0.750\n",
      "epoch 1, step 6: train_loss 0.739; train_acc 0.375\n",
      "epoch 1, step 7: train_loss 0.719; train_acc 0.250\n",
      "epoch 1, step 8: train_loss 0.702; train_acc 0.500\n",
      "epoch 1, step 9: train_loss 0.748; train_acc 0.250\n",
      "epoch 1, step 10: train_loss 0.700; train_acc 0.500\n",
      "epoch 1, step 11: train_loss 0.658; train_acc 0.875\n",
      "epoch 1, step 12: train_loss 0.732; train_acc 0.250\n",
      "epoch 1, step 13: train_loss 0.692; train_acc 0.375\n",
      "epoch 1, step 14: train_loss 0.656; train_acc 0.625\n",
      "epoch 1, step 15: train_loss 0.678; train_acc 0.625\n",
      "epoch 1, step 16: train_loss 0.727; train_acc 0.250\n",
      "epoch 1, step 17: train_loss 0.625; train_acc 0.875\n",
      "epoch 1, step 18: train_loss 0.698; train_acc 0.375\n",
      "epoch 1, step 19: train_loss 0.671; train_acc 0.500\n",
      "epoch 1, step 20: train_loss 0.638; train_acc 0.625\n",
      "epoch 1, step 21: train_loss 0.653; train_acc 0.625\n",
      "epoch 1, step 22: train_loss 0.761; train_acc 0.250\n",
      "epoch 1, step 23: train_loss 0.635; train_acc 0.750\n",
      "epoch 1, step 24: train_loss 0.723; train_acc 0.375\n",
      "epoch 1, step 25: train_loss 0.647; train_acc 0.750\n",
      "epoch 1, step 26: train_loss 0.697; train_acc 0.500\n",
      "Total # of valid models:  24\n",
      "val mean class acc. :  0.5\n",
      "val overall acc. :  0.5\n",
      "val loss :  0.6929216782251993\n",
      "epoch 2, step 1: train_loss 0.687; train_acc 0.500\n",
      "epoch 2, step 2: train_loss 0.610; train_acc 0.750\n",
      "epoch 2, step 3: train_loss 0.717; train_acc 0.375\n",
      "epoch 2, step 4: train_loss 0.701; train_acc 0.500\n",
      "epoch 2, step 5: train_loss 0.818; train_acc 0.125\n",
      "epoch 2, step 6: train_loss 0.694; train_acc 0.375\n",
      "epoch 2, step 7: train_loss 0.661; train_acc 0.625\n",
      "epoch 2, step 8: train_loss 0.688; train_acc 0.750\n",
      "epoch 2, step 9: train_loss 0.686; train_acc 0.500\n",
      "epoch 2, step 10: train_loss 0.655; train_acc 0.750\n",
      "epoch 2, step 11: train_loss 0.687; train_acc 0.750\n",
      "epoch 2, step 12: train_loss 0.660; train_acc 0.750\n",
      "epoch 2, step 13: train_loss 0.633; train_acc 0.750\n",
      "epoch 2, step 14: train_loss 0.600; train_acc 1.000\n",
      "epoch 2, step 15: train_loss 0.617; train_acc 0.750\n",
      "epoch 2, step 16: train_loss 0.666; train_acc 0.500\n",
      "epoch 2, step 17: train_loss 0.652; train_acc 0.500\n",
      "epoch 2, step 18: train_loss 0.666; train_acc 0.625\n",
      "epoch 2, step 19: train_loss 0.625; train_acc 0.750\n",
      "epoch 2, step 20: train_loss 0.614; train_acc 0.750\n",
      "epoch 2, step 21: train_loss 0.596; train_acc 0.875\n",
      "epoch 2, step 22: train_loss 0.603; train_acc 0.625\n",
      "epoch 2, step 23: train_loss 0.608; train_acc 0.625\n",
      "epoch 2, step 24: train_loss 0.568; train_acc 0.750\n",
      "epoch 2, step 25: train_loss 0.541; train_acc 0.750\n",
      "epoch 2, step 26: train_loss 0.413; train_acc 1.000\n",
      "Total # of valid models:  24\n",
      "val mean class acc. :  0.625\n",
      "val overall acc. :  0.625\n",
      "val loss :  0.6819074054559072\n",
      "Test evaluation\n",
      "Total # of test models:  48\n",
      "val mean class acc. :  0.625\n",
      "val overall acc. :  0.625\n",
      "val loss :  0.5872806260983149\n"
     ]
    }
   ],
   "source": [
    "# STAGE 1\n",
    "log_dir = name+'_stage_1'\n",
    "create_folder(log_dir)\n",
    "cnet = SVCNN(name, nclasses=num_class, pretraining=pretraining, cnn_name=cnn_name)\n",
    "\n",
    "optimizer = optim.Adam(cnet.parameters(), lr=lr, weight_decay=weight_decay)\n",
    "\n",
    "n_models_train = num_models * num_views\n",
    "\n",
    "train_dataset = SingleImgDataset(train_path, scale_aug=False, rot_aug=False, num_models=n_models_train, num_views=num_views)\n",
    "train_loader = torch.utils.data.DataLoader(train_dataset, batch_size=bs, shuffle=True, num_workers=0)\n",
    "\n",
    "val_dataset = SingleImgDataset(val_path, scale_aug=False, rot_aug=False, test_mode=True)\n",
    "val_loader = torch.utils.data.DataLoader(val_dataset, batch_size=bs, shuffle=False, num_workers=0)\n",
    "\n",
    "test_dataset = SingleImgDataset(test_path, scale_aug=False, rot_aug=False, test_mode=True)\n",
    "test_loader = torch.utils.data.DataLoader(test_dataset, batch_size=bs, shuffle=False, num_workers=0)\n",
    "\n",
    "print('num_train_files: '+str(len(train_dataset.filepaths)))\n",
    "print('num_test_files: '+str(len(val_dataset.filepaths)))\n",
    "print('num_validation_files: '+str(len(test_dataset.filepaths)))\n",
    "trainer = ModelNetTrainer(cnet, train_loader, val_loader, optimizer, nn.CrossEntropyLoss(), 'svcnn', log_dir, num_views=1, test_loader=test_loader)\n",
    "trainer.train(num_epoch)"
   ],
   "metadata": {
    "collapsed": false,
    "pycharm": {
     "name": "#%%\n"
    }
   }
  },
  {
   "cell_type": "code",
   "execution_count": 5,
   "outputs": [
    {
     "name": "stdout",
     "output_type": "stream",
     "text": [
      "num_train_files: 204\n",
      "num_val_files: 24\n",
      "epoch 1, step 1: train_loss 0.578; train_acc 0.625\n",
      "epoch 1, step 2: train_loss 0.407; train_acc 1.000\n",
      "epoch 1, step 3: train_loss 0.694; train_acc 0.000\n",
      "Total # of valid models:  2\n",
      "val mean class acc. :  0.5\n",
      "val overall acc. :  0.5\n",
      "val loss :  0.7705594301223755\n",
      "epoch 2, step 1: train_loss 0.436; train_acc 0.875\n",
      "epoch 2, step 2: train_loss 0.400; train_acc 0.875\n",
      "epoch 2, step 3: train_loss 0.225; train_acc 1.000\n",
      "Total # of valid models:  2\n",
      "val mean class acc. :  0.5\n",
      "val overall acc. :  0.5\n",
      "val loss :  0.6412848830223083\n",
      "Test evaluation\n",
      "Total # of test models:  4\n",
      "val mean class acc. :  0.75\n",
      "val overall acc. :  0.75\n",
      "val loss :  0.4811704456806183\n"
     ]
    }
   ],
   "source": [
    "# STAGE 2\n",
    "log_dir =name+'_stage_2'\n",
    "create_folder(log_dir)\n",
    "cnet_2 = MVCNN(name, cnet, nclasses=num_class, cnn_name=cnn_name, num_views=num_views)\n",
    "del cnet\n",
    "\n",
    "optimizer = optim.Adam(cnet_2.parameters(), lr=lr, weight_decay=weight_decay, betas=(0.9, 0.999))\n",
    "\n",
    "train_dataset = MultiviewImgDataset(train_path, scale_aug=False, rot_aug=False, num_models=n_models_train, num_views=num_views)\n",
    "train_loader = torch.utils.data.DataLoader(train_dataset, batch_size=bs, shuffle=False, num_workers=0)# shuffle needs to be false! it's done within the trainer\n",
    "\n",
    "val_dataset = MultiviewImgDataset(val_path, scale_aug=False, rot_aug=False, num_views=num_views)\n",
    "val_loader = torch.utils.data.DataLoader(val_dataset, batch_size=bs, shuffle=False, num_workers=0)\n",
    "\n",
    "test_dataset = MultiviewImgDataset(test_path, scale_aug=False, rot_aug=False, num_views=num_views)\n",
    "test_loader = torch.utils.data.DataLoader(test_dataset, batch_size=bs, shuffle=False, num_workers=0)\n",
    "\n",
    "print('num_train_files: '+str(len(train_dataset.filepaths)))\n",
    "print('num_val_files: '+str(len(val_dataset.filepaths)))\n",
    "trainer = ModelNetTrainer(cnet_2, train_loader, val_loader, optimizer, nn.CrossEntropyLoss(), 'mvcnn', log_dir, num_views=num_views, test_loader=test_loader)\n",
    "trainer.train(num_epoch)"
   ],
   "metadata": {
    "collapsed": false,
    "pycharm": {
     "name": "#%%\n"
    }
   }
  }
 ],
 "metadata": {
  "kernelspec": {
   "display_name": "Python 3",
   "language": "python",
   "name": "python3"
  },
  "language_info": {
   "codemirror_mode": {
    "name": "ipython",
    "version": 2
   },
   "file_extension": ".py",
   "mimetype": "text/x-python",
   "name": "python",
   "nbconvert_exporter": "python",
   "pygments_lexer": "ipython2",
   "version": "2.7.6"
  }
 },
 "nbformat": 4,
 "nbformat_minor": 0
}