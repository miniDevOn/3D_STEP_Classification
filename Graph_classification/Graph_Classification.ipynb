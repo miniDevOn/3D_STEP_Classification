{
 "cells": [
  {
   "cell_type": "code",
   "execution_count": 13,
   "metadata": {
    "collapsed": true
   },
   "outputs": [
    {
     "name": "stdout",
     "output_type": "stream",
     "text": [
      "Importing...\n",
      "Done importing\n"
     ]
    }
   ],
   "source": [
    "print(\"Importing...\")\n",
    "from GCN import *\n",
    "from datetime import datetime\n",
    "from utils.my_utils import *\n",
    "from utils.util import *\n",
    "import time\n",
    "from argparse import ArgumentParser, ArgumentDefaultsHelpFormatter\n",
    "import os\n",
    "import math\n",
    "from train_utils import *\n",
    "\n",
    "torch.manual_seed(124)\n",
    "np.random.seed(124)\n",
    "print(\"Done importing\")"
   ]
  },
  {
   "cell_type": "code",
   "execution_count": 14,
   "outputs": [
    {
     "name": "stdout",
     "output_type": "stream",
     "text": [
      "Settings\n",
      "The calculations will be performed on the device: cuda:0\n",
      "Results will be saved in: C:\\Users\\mande\\Desktop\\Erasmus\\ComputerSecurity\\3D_STEP_classification\\results\\runs_GCN\\Test_dataset\n",
      "    The model will be saved as: C:\\Users\\mande\\Desktop\\Erasmus\\ComputerSecurity\\3D_STEP_classification\\results\\runs_GCN\\Test_dataset/Models/Test_dataset_09-30\n"
     ]
    }
   ],
   "source": [
    "print(\"Settings\")\n",
    "\n",
    "run_folder=\"../\"\n",
    "dataset = \"Test_dataset\"\n",
    "STEP_dataset= dataset + \"/STEP_models/\"\n",
    "graphml_dataset = dataset + \"/graphml_models/\"\n",
    "learning_rate=0.0005\n",
    "batch_size=1\n",
    "num_epochs=50\n",
    "dropout=0.5\n",
    "\n",
    "device = torch.device('cuda:0' if torch.cuda.is_available() else 'cpu')\n",
    "print(\"The calculations will be performed on the device:\", device)\n",
    "\n",
    "# save paths\n",
    "model_name = dataset + \"_\" + str(datetime.today().strftime('%m-%d'))\n",
    "out_dir = os.path.abspath(os.path.join(run_folder, \"./results/runs_GCN\", dataset))\n",
    "if not os.path.exists(out_dir + \"/Models/\"):\n",
    "    os.makedirs(out_dir + \"/Models/\")\n",
    "save_path = out_dir + \"/Models/\" + model_name\n",
    "print(\"Results will be saved in:\", out_dir)\n",
    "print(\"    The model will be saved as:\", save_path)"
   ],
   "metadata": {
    "collapsed": false,
    "pycharm": {
     "name": "#%%\n"
    }
   }
  },
  {
   "cell_type": "markdown",
   "source": [
    "### CONVERT STEP 3D Models to GRAPHS\n",
    "To convert STEP models into Graphml data we use the **make_graphh_dataset** Python scripts. It generates an indirect graph from each STEP file.\n",
    "The function takes two input: 1) the path of the STEP dataset and 2) the output directory where it's gonna write the graph dataset.\n",
    "To avoid generating each graphs every run, the graph are saved as a **.graphml** format and then reload at subsequent runs."
   ],
   "metadata": {
    "collapsed": false
   }
  },
  {
   "cell_type": "code",
   "execution_count": 15,
   "outputs": [
    {
     "name": "stdout",
     "output_type": "stream",
     "text": [
      "Converting STEP dataset in Graphml dataset\n",
      "Loading 0/0_10.stp graph\n",
      "Loading 0/0_11.stp graph\n",
      "Loading 0/0_12.stp graph\n",
      "Loading 0/0_13.stp graph\n",
      "Loading 0/0_2.stp graph\n",
      "Loading 0/0_3.stp graph\n",
      "Loading 0/0_4.stp graph\n",
      "Loading 0/0_5.stp graph\n",
      "Loading 0/0_6.stp graph\n",
      "Loading 0/0_7.stp graph\n",
      "Loading 0/0_8.stp graph\n",
      "Loading 0/0_9.stp graph\n",
      "Loading 1/1_0.stp graph\n",
      "Loading 1/1_1.stp graph\n",
      "Loading 1/1_10.stp graph\n",
      "Loading 1/1_11.stp graph\n",
      "Loading 1/1_2.stp graph\n",
      "Loading 1/1_3.stp graph\n",
      "Loading 1/1_4.stp graph\n",
      "Loading 1/1_5.stp graph\n",
      "Loading 1/1_6.stp graph\n",
      "Loading 1/1_7.stp graph\n",
      "Loading 1/1_8.stp graph\n",
      "Loading 1/1_9.stp graph\n",
      "Done converting\n"
     ]
    }
   ],
   "source": [
    "from Graph_convertion.step_2_graph import make_graphh_dataset\n",
    "\n",
    "print(\"Converting STEP dataset in Graphml dataset\")\n",
    "make_graphh_dataset(os.path.abspath(os.path.join(run_folder,\"Datasets\",STEP_dataset)), os.path.abspath(os.path.join(run_folder,\"Datasets\",graphml_dataset)))\n",
    "print(\"Done converting\")"
   ],
   "metadata": {
    "collapsed": false,
    "pycharm": {
     "name": "#%%\n"
    }
   }
  },
  {
   "cell_type": "markdown",
   "source": [
    "### We load the graph dataset\n",
    "The list of all graph is loaded and divided in train, test and validation set"
   ],
   "metadata": {
    "collapsed": false
   }
  },
  {
   "cell_type": "code",
   "execution_count": 16,
   "outputs": [
    {
     "name": "stdout",
     "output_type": "stream",
     "text": [
      "Loading Graph data...\n",
      "Loading class: 0\n",
      "Loading class: 1\n",
      "# classes: 2\n",
      "# maximum node tag: 72\n",
      "# data: 24\n",
      "# training graphs:  18\n",
      "class: 0  - num elements: 9 elements:  ['0_12.graphml', '0_9.graphml', '0_2.graphml', '0_13.graphml', '0_10.graphml', '0_7.graphml', '0_6.graphml', '0_5.graphml', '0_3.graphml']\n",
      "class: 1  - num elements: 9 elements:  ['1_2.graphml', '1_6.graphml', '1_8.graphml', '1_5.graphml', '1_1.graphml', '1_9.graphml', '1_10.graphml', '1_7.graphml', '1_0.graphml']\n",
      "# validation graphs:  3\n",
      "class: 0  - num elements: 1 elements:  ['0_11.graphml']\n",
      "class: 1  - num elements: 2 elements:  ['1_11.graphml', '1_4.graphml']\n",
      "# test graphs:  3\n",
      "class: 0  - num elements: 2 elements:  ['0_4.graphml', '0_8.graphml']\n",
      "class: 1  - num elements: 1 elements:  ['1_3.graphml']\n",
      "Loading data... finished!\n"
     ]
    }
   ],
   "source": [
    "print(\"Loading Graph data...\")\n",
    "use_degree_as_tag = False\n",
    "fold = 0\n",
    "graphs, num_classes = my_load_data(graphml_dataset, use_degree_as_tag)\n",
    "\n",
    "train_graphs, test_graphs = separate_data(graphs, fold)\n",
    "train_graphs, valid_graphs = split_data(train_graphs, perc=0.9)\n",
    "print(\"# training graphs: \", len(train_graphs))\n",
    "print_data_commposition(train_graphs)\n",
    "print(\"# validation graphs: \", len(valid_graphs))\n",
    "print_data_commposition(valid_graphs)\n",
    "print(\"# test graphs: \", len(test_graphs))\n",
    "print_data_commposition(test_graphs)\n",
    "# Num of different STEP entities founded in the graph dataset\n",
    "feature_dim_size = graphs[0].node_features.shape[1]\n",
    "print(\"Loading data... finished!\")"
   ],
   "metadata": {
    "collapsed": false,
    "pycharm": {
     "name": "#%%\n"
    }
   }
  },
  {
   "cell_type": "markdown",
   "source": [
    "### Model\n",
    "We create a Graph Convolutional Neural Network model: the convolutional layers are followed by an attention mechanism and finally by fully connected layers."
   ],
   "metadata": {
    "collapsed": false
   }
  },
  {
   "cell_type": "code",
   "execution_count": 17,
   "outputs": [
    {
     "name": "stdout",
     "output_type": "stream",
     "text": [
      "Creating model\n"
     ]
    }
   ],
   "source": [
    "print(\"Creating model\")\n",
    "\n",
    "# Create a GCN model\n",
    "model = GCN_CN_v4(feature_dim_size=feature_dim_size, num_classes=num_classes, dropout=dropout).to(device)\n",
    "optimizer = torch.optim.Adam(model.parameters(), lr=learning_rate)\n",
    "num_batches_per_epoch = int((len(train_graphs) - 1) / batch_size) + 1\n",
    "scheduler = torch.optim.lr_scheduler.StepLR(optimizer, step_size=num_batches_per_epoch, gamma=0.1)"
   ],
   "metadata": {
    "collapsed": false,
    "pycharm": {
     "name": "#%%\n"
    }
   }
  },
  {
   "cell_type": "code",
   "execution_count": 18,
   "outputs": [
    {
     "name": "stdout",
     "output_type": "stream",
     "text": [
      "Main process\n",
      "Writing to C:\\Users\\mande\\Desktop\\Erasmus\\ComputerSecurity\\3D_STEP_classification\\results\\runs_GCN\\Test_dataset\n",
      "\n",
      "| epoch   1 | time:  0.35s | train loss  0.53 | valid loss  0.57 | valid acc 100.00 | \n",
      "Save at epoch:   1 at valid loss:  0.57 and valid accuracy: 100.00\n"
     ]
    }
   ],
   "source": [
    "print(\"Main process\")\n",
    "\n",
    "print(\"Writing to {}\\n\".format(out_dir))\n",
    "# Checkpoint directory\n",
    "checkpoint_dir = os.path.abspath(os.path.join(out_dir, \"checkpoints\"))\n",
    "checkpoint_prefix = os.path.join(checkpoint_dir, \"model\")\n",
    "if not os.path.exists(checkpoint_dir):\n",
    "    os.makedirs(checkpoint_dir)\n",
    "write_acc = open(checkpoint_prefix + '_acc.txt', 'w')\n",
    "\n",
    "train_losses = []\n",
    "train_accuracy = []\n",
    "valid_losses = []\n",
    "valid_accuracy = []\n",
    "valid_accuracy_x_class = []\n",
    "\n",
    "best_loss = math.inf\n",
    "best_accuracy = 0\n",
    "# Train loop\n",
    "for epoch in range(1, num_epochs + 1):\n",
    "    epoch_start_time = time.time()\n",
    "    # train model\n",
    "    train(mmodel=model, optimizer=optimizer, train_graphs=train_graphs, batch_size=batch_size, num_classes=num_classes, device=device)\n",
    "    # evaluate on train data\n",
    "    train_loss, train_acc, _ = evaluate(mmodel=model, current_graphs=train_graphs, batch_size=batch_size, num_classes=num_classes, device=device, out_dir=out_dir)\n",
    "    # evaluate on validation data\n",
    "    valid_loss, valid_acc, valid_acc_x_class = evaluate(mmodel=model, current_graphs=valid_graphs, batch_size=batch_size, num_classes=num_classes, device=device, out_dir=out_dir)\n",
    "    print('| epoch {:3d} | time: {:5.2f}s | train loss {:5.2f} | valid loss {:5.2f} | valid acc {:5.2f} | '.format(epoch, (time.time() - epoch_start_time), train_loss, valid_loss, valid_acc*100))\n",
    "\n",
    "    train_losses.append(train_loss)\n",
    "    train_accuracy.append(train_acc)\n",
    "    valid_losses.append(valid_loss)\n",
    "    valid_accuracy.append(valid_acc)\n",
    "    valid_accuracy_x_class.append(valid_acc_x_class)\n",
    "\n",
    "    # Make a step of the optimizer if the mean of the last 6 epochs were better than the current epoch\n",
    "    if epoch > 5 and train_losses[-1] > np.mean(train_losses[-6:-1]):\n",
    "        scheduler.step()\n",
    "        print(\"Scheduler step\")\n",
    "    # save if best performance ever\n",
    "    if best_accuracy < valid_acc or (best_accuracy == valid_acc and best_loss > valid_loss):\n",
    "        print(\"Save at epoch: {:3d} at valid loss: {:5.2f} and valid accuracy: {:5.2f}\".format(epoch, valid_loss, valid_acc*100))\n",
    "        best_accuracy = valid_acc\n",
    "        best_loss = valid_loss\n",
    "        torch.save(model.state_dict(), save_path)\n",
    "    write_acc.write('epoch ' + str(epoch) + ' fold ' + str(fold) + ' acc ' + str(valid_acc*100) + '%\\n')\n",
    "\n",
    "print(\"Finished training\")"
   ],
   "metadata": {
    "collapsed": false,
    "pycharm": {
     "name": "#%%\n"
    }
   }
  },
  {
   "cell_type": "code",
   "execution_count": 20,
   "outputs": [
    {
     "name": "stdout",
     "output_type": "stream",
     "text": [
      "Plot results\n",
      "Accuracy per class :\n",
      "[100. 100.]\n"
     ]
    },
    {
     "ename": "KeyboardInterrupt",
     "evalue": "",
     "output_type": "error",
     "traceback": [
      "\u001B[1;31m---------------------------------------------------------------------------\u001B[0m",
      "\u001B[1;31mKeyboardInterrupt\u001B[0m                         Traceback (most recent call last)",
      "\u001B[1;32m~\\AppData\\Local\\Temp\\ipykernel_21136\\2708024597.py\u001B[0m in \u001B[0;36m<module>\u001B[1;34m\u001B[0m\n\u001B[0;32m      7\u001B[0m \u001B[1;31m# Evaluate on test data\u001B[0m\u001B[1;33m\u001B[0m\u001B[1;33m\u001B[0m\u001B[1;33m\u001B[0m\u001B[0m\n\u001B[0;32m      8\u001B[0m \u001B[0mmodel\u001B[0m\u001B[1;33m.\u001B[0m\u001B[0mload_state_dict\u001B[0m\u001B[1;33m(\u001B[0m\u001B[0mtorch\u001B[0m\u001B[1;33m.\u001B[0m\u001B[0mload\u001B[0m\u001B[1;33m(\u001B[0m\u001B[0msave_path\u001B[0m\u001B[1;33m)\u001B[0m\u001B[1;33m)\u001B[0m\u001B[1;33m\u001B[0m\u001B[1;33m\u001B[0m\u001B[0m\n\u001B[1;32m----> 9\u001B[1;33m \u001B[0mtest_loss\u001B[0m\u001B[1;33m,\u001B[0m \u001B[0mtest_acc\u001B[0m\u001B[1;33m,\u001B[0m \u001B[0m_\u001B[0m \u001B[1;33m=\u001B[0m \u001B[0mevaluate\u001B[0m\u001B[1;33m(\u001B[0m\u001B[0mmmodel\u001B[0m\u001B[1;33m=\u001B[0m\u001B[0mmodel\u001B[0m\u001B[1;33m,\u001B[0m \u001B[0mcurrent_graphs\u001B[0m\u001B[1;33m=\u001B[0m\u001B[0mtest_graphs\u001B[0m\u001B[1;33m,\u001B[0m \u001B[0mbatch_size\u001B[0m\u001B[1;33m=\u001B[0m\u001B[0mbatch_size\u001B[0m\u001B[1;33m,\u001B[0m \u001B[0mnum_classes\u001B[0m\u001B[1;33m=\u001B[0m\u001B[0mnum_classes\u001B[0m\u001B[1;33m,\u001B[0m \u001B[0mdevice\u001B[0m\u001B[1;33m=\u001B[0m\u001B[0mdevice\u001B[0m\u001B[1;33m,\u001B[0m \u001B[0mout_dir\u001B[0m\u001B[1;33m=\u001B[0m\u001B[0mout_dir\u001B[0m\u001B[1;33m,\u001B[0m \u001B[0mlast_round\u001B[0m\u001B[1;33m=\u001B[0m\u001B[1;32mTrue\u001B[0m\u001B[1;33m)\u001B[0m\u001B[1;33m\u001B[0m\u001B[1;33m\u001B[0m\u001B[0m\n\u001B[0m\u001B[0;32m     10\u001B[0m \u001B[0mprint\u001B[0m\u001B[1;33m(\u001B[0m\u001B[1;34m\"Evaluate: loss on test: \"\u001B[0m\u001B[1;33m,\u001B[0m \u001B[0mtest_loss\u001B[0m\u001B[1;33m,\u001B[0m \u001B[1;34m\" and accuracy: \"\u001B[0m\u001B[1;33m,\u001B[0m \u001B[0mtest_acc\u001B[0m \u001B[1;33m*\u001B[0m \u001B[1;36m100\u001B[0m\u001B[1;33m)\u001B[0m\u001B[1;33m\u001B[0m\u001B[1;33m\u001B[0m\u001B[0m\n\u001B[0;32m     11\u001B[0m \u001B[1;33m\u001B[0m\u001B[0m\n",
      "\u001B[1;32m~\\Desktop\\Erasmus\\ComputerSecurity\\3D_STEP_classification\\Graph_classification\\train_utils.py\u001B[0m in \u001B[0;36mevaluate\u001B[1;34m(mmodel, current_graphs, batch_size, num_classes, device, out_dir, last_round)\u001B[0m\n\u001B[0;32m    143\u001B[0m \u001B[1;33m\u001B[0m\u001B[0m\n\u001B[0;32m    144\u001B[0m     \u001B[1;32mreturn\u001B[0m \u001B[0mtotal_loss\u001B[0m\u001B[1;33m/\u001B[0m\u001B[0mlen\u001B[0m\u001B[1;33m(\u001B[0m\u001B[0mcurrent_graphs\u001B[0m\u001B[1;33m)\u001B[0m\u001B[1;33m,\u001B[0m \u001B[0maccuracy\u001B[0m\u001B[1;33m,\u001B[0m \u001B[0macc_x_class\u001B[0m\u001B[1;33m\u001B[0m\u001B[1;33m\u001B[0m\u001B[0m\n",
      "\u001B[1;32m~\\Desktop\\Erasmus\\ComputerSecurity\\3D_STEP_classification\\Graph_classification\\train_utils.py\u001B[0m in \u001B[0;36mevaluate\u001B[1;34m(mmodel, current_graphs, batch_size, num_classes, device, out_dir, last_round)\u001B[0m\n\u001B[0;32m    143\u001B[0m \u001B[1;33m\u001B[0m\u001B[0m\n\u001B[0;32m    144\u001B[0m     \u001B[1;32mreturn\u001B[0m \u001B[0mtotal_loss\u001B[0m\u001B[1;33m/\u001B[0m\u001B[0mlen\u001B[0m\u001B[1;33m(\u001B[0m\u001B[0mcurrent_graphs\u001B[0m\u001B[1;33m)\u001B[0m\u001B[1;33m,\u001B[0m \u001B[0maccuracy\u001B[0m\u001B[1;33m,\u001B[0m \u001B[0macc_x_class\u001B[0m\u001B[1;33m\u001B[0m\u001B[1;33m\u001B[0m\u001B[0m\n",
      "\u001B[1;32m_pydevd_bundle\\pydevd_cython_win32_37_64.pyx\u001B[0m in \u001B[0;36m_pydevd_bundle.pydevd_cython_win32_37_64.SafeCallWrapper.__call__\u001B[1;34m()\u001B[0m\n",
      "\u001B[1;32m_pydevd_bundle\\pydevd_cython_win32_37_64.pyx\u001B[0m in \u001B[0;36m_pydevd_bundle.pydevd_cython_win32_37_64.PyDBFrame.trace_dispatch\u001B[1;34m()\u001B[0m\n",
      "\u001B[1;32m_pydevd_bundle\\pydevd_cython_win32_37_64.pyx\u001B[0m in \u001B[0;36m_pydevd_bundle.pydevd_cython_win32_37_64.PyDBFrame.trace_dispatch\u001B[1;34m()\u001B[0m\n",
      "\u001B[1;32m_pydevd_bundle\\pydevd_cython_win32_37_64.pyx\u001B[0m in \u001B[0;36m_pydevd_bundle.pydevd_cython_win32_37_64.PyDBFrame.trace_dispatch\u001B[1;34m()\u001B[0m\n",
      "\u001B[1;32m_pydevd_bundle\\pydevd_cython_win32_37_64.pyx\u001B[0m in \u001B[0;36m_pydevd_bundle.pydevd_cython_win32_37_64.PyDBFrame.do_wait_suspend\u001B[1;34m()\u001B[0m\n",
      "\u001B[1;32mC:\\Program Files\\JetBrains\\PyCharm 2021.3\\plugins\\python\\helpers\\pydev\\pydevd.py\u001B[0m in \u001B[0;36mdo_wait_suspend\u001B[1;34m(self, thread, frame, event, arg, send_suspend_message, is_unhandled_exception)\u001B[0m\n\u001B[0;32m   1145\u001B[0m \u001B[1;33m\u001B[0m\u001B[0m\n\u001B[0;32m   1146\u001B[0m         \u001B[1;32mwith\u001B[0m \u001B[0mself\u001B[0m\u001B[1;33m.\u001B[0m\u001B[0m_threads_suspended_single_notification\u001B[0m\u001B[1;33m.\u001B[0m\u001B[0mnotify_thread_suspended\u001B[0m\u001B[1;33m(\u001B[0m\u001B[0mthread_id\u001B[0m\u001B[1;33m,\u001B[0m \u001B[0mstop_reason\u001B[0m\u001B[1;33m)\u001B[0m\u001B[1;33m:\u001B[0m\u001B[1;33m\u001B[0m\u001B[1;33m\u001B[0m\u001B[0m\n\u001B[1;32m-> 1147\u001B[1;33m             \u001B[0mself\u001B[0m\u001B[1;33m.\u001B[0m\u001B[0m_do_wait_suspend\u001B[0m\u001B[1;33m(\u001B[0m\u001B[0mthread\u001B[0m\u001B[1;33m,\u001B[0m \u001B[0mframe\u001B[0m\u001B[1;33m,\u001B[0m \u001B[0mevent\u001B[0m\u001B[1;33m,\u001B[0m \u001B[0marg\u001B[0m\u001B[1;33m,\u001B[0m \u001B[0msuspend_type\u001B[0m\u001B[1;33m,\u001B[0m \u001B[0mfrom_this_thread\u001B[0m\u001B[1;33m)\u001B[0m\u001B[1;33m\u001B[0m\u001B[1;33m\u001B[0m\u001B[0m\n\u001B[0m\u001B[0;32m   1148\u001B[0m \u001B[1;33m\u001B[0m\u001B[0m\n\u001B[0;32m   1149\u001B[0m     \u001B[1;32mdef\u001B[0m \u001B[0m_do_wait_suspend\u001B[0m\u001B[1;33m(\u001B[0m\u001B[0mself\u001B[0m\u001B[1;33m,\u001B[0m \u001B[0mthread\u001B[0m\u001B[1;33m,\u001B[0m \u001B[0mframe\u001B[0m\u001B[1;33m,\u001B[0m \u001B[0mevent\u001B[0m\u001B[1;33m,\u001B[0m \u001B[0marg\u001B[0m\u001B[1;33m,\u001B[0m \u001B[0msuspend_type\u001B[0m\u001B[1;33m,\u001B[0m \u001B[0mfrom_this_thread\u001B[0m\u001B[1;33m)\u001B[0m\u001B[1;33m:\u001B[0m\u001B[1;33m\u001B[0m\u001B[1;33m\u001B[0m\u001B[0m\n",
      "\u001B[1;32mC:\\Program Files\\JetBrains\\PyCharm 2021.3\\plugins\\python\\helpers\\pydev\\pydevd.py\u001B[0m in \u001B[0;36m_do_wait_suspend\u001B[1;34m(self, thread, frame, event, arg, suspend_type, from_this_thread)\u001B[0m\n\u001B[0;32m   1160\u001B[0m \u001B[1;33m\u001B[0m\u001B[0m\n\u001B[0;32m   1161\u001B[0m                 \u001B[0mself\u001B[0m\u001B[1;33m.\u001B[0m\u001B[0mprocess_internal_commands\u001B[0m\u001B[1;33m(\u001B[0m\u001B[1;33m)\u001B[0m\u001B[1;33m\u001B[0m\u001B[1;33m\u001B[0m\u001B[0m\n\u001B[1;32m-> 1162\u001B[1;33m                 \u001B[0mtime\u001B[0m\u001B[1;33m.\u001B[0m\u001B[0msleep\u001B[0m\u001B[1;33m(\u001B[0m\u001B[1;36m0.01\u001B[0m\u001B[1;33m)\u001B[0m\u001B[1;33m\u001B[0m\u001B[1;33m\u001B[0m\u001B[0m\n\u001B[0m\u001B[0;32m   1163\u001B[0m \u001B[1;33m\u001B[0m\u001B[0m\n\u001B[0;32m   1164\u001B[0m         \u001B[0mself\u001B[0m\u001B[1;33m.\u001B[0m\u001B[0mcancel_async_evaluation\u001B[0m\u001B[1;33m(\u001B[0m\u001B[0mget_current_thread_id\u001B[0m\u001B[1;33m(\u001B[0m\u001B[0mthread\u001B[0m\u001B[1;33m)\u001B[0m\u001B[1;33m,\u001B[0m \u001B[0mstr\u001B[0m\u001B[1;33m(\u001B[0m\u001B[0mid\u001B[0m\u001B[1;33m(\u001B[0m\u001B[0mframe\u001B[0m\u001B[1;33m)\u001B[0m\u001B[1;33m)\u001B[0m\u001B[1;33m)\u001B[0m\u001B[1;33m\u001B[0m\u001B[1;33m\u001B[0m\u001B[0m\n",
      "\u001B[1;31mKeyboardInterrupt\u001B[0m: "
     ]
    },
    {
     "data": {
      "text/plain": "<Figure size 640x480 with 2 Axes>",
      "image/png": "[encoded data removed]"
     },
     "metadata": {},
     "output_type": "display_data"
    }
   ],
   "source": [
    "print(\"Plot results\")\n",
    "\n",
    "valid_accuracy_x_class = np.array(valid_accuracy_x_class).T\n",
    "# plot training flow\n",
    "plot_training_flow(ys=[train_losses, valid_losses], names=[\"train\", \"validation\"], path=out_dir, fig_name=\"/losses_flow\", y_axis=\"Loss\")\n",
    "plot_training_flow(ys=[np.array(train_accuracy)*100, np.array(valid_accuracy)*100], names=[\"train\",\"validation\"], path=out_dir, fig_name=\"/accuracy_flow\", y_axis=\"Accuracy\")\n",
    "# Evaluate on test data\n",
    "model.load_state_dict(torch.load(save_path))\n",
    "test_loss, test_acc, _ = evaluate(mmodel=model, current_graphs=test_graphs, batch_size=batch_size, num_classes=num_classes, device=device, out_dir=out_dir, last_round=True)\n",
    "print(\"Evaluate: loss on test: \", test_loss, \" and accuracy: \", test_acc * 100)\n",
    "\n",
    "write_acc.close()"
   ],
   "metadata": {
    "collapsed": false,
    "pycharm": {
     "name": "#%%\n"
    }
   }
  }
 ],
 "metadata": {
  "kernelspec": {
   "display_name": "Python 3",
   "language": "python",
   "name": "python3"
  },
  "language_info": {
   "codemirror_mode": {
    "name": "ipython",
    "version": 2
   },
   "file_extension": ".py",
   "mimetype": "text/x-python",
   "name": "python",
   "nbconvert_exporter": "python",
   "pygments_lexer": "ipython2",
   "version": "2.7.6"
  }
 },
 "nbformat": 4,
 "nbformat_minor": 0
}